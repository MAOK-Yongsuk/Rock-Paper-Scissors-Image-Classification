{
  "nbformat": 4,
  "nbformat_minor": 0,
  "metadata": {
    "colab": {
      "provenance": []
    },
    "kernelspec": {
      "name": "python3",
      "display_name": "Python 3"
    },
    "language_info": {
      "name": "python"
    },
    "accelerator": "GPU",
    "gpuClass": "standard"
  },
  "cells": [
    {
      "cell_type": "code",
      "source": [
        "pip install opendatasets"
      ],
      "metadata": {
        "colab": {
          "base_uri": "https://localhost:8080/"
        },
        "id": "zcXfbo9X8LHr",
        "outputId": "02fd6fa4-bae0-4fd6-dee3-d97eb0fe3aed"
      },
      "execution_count": 1,
      "outputs": [
        {
          "output_type": "stream",
          "name": "stdout",
          "text": [
            "Looking in indexes: https://pypi.org/simple, https://us-python.pkg.dev/colab-wheels/public/simple/\n",
            "Collecting opendatasets\n",
            "  Downloading opendatasets-0.1.22-py3-none-any.whl (15 kB)\n",
            "Requirement already satisfied: click in /usr/local/lib/python3.8/dist-packages (from opendatasets) (7.1.2)\n",
            "Requirement already satisfied: tqdm in /usr/local/lib/python3.8/dist-packages (from opendatasets) (4.64.1)\n",
            "Requirement already satisfied: kaggle in /usr/local/lib/python3.8/dist-packages (from opendatasets) (1.5.12)\n",
            "Requirement already satisfied: urllib3 in /usr/local/lib/python3.8/dist-packages (from kaggle->opendatasets) (1.24.3)\n",
            "Requirement already satisfied: requests in /usr/local/lib/python3.8/dist-packages (from kaggle->opendatasets) (2.23.0)\n",
            "Requirement already satisfied: python-slugify in /usr/local/lib/python3.8/dist-packages (from kaggle->opendatasets) (7.0.0)\n",
            "Requirement already satisfied: certifi in /usr/local/lib/python3.8/dist-packages (from kaggle->opendatasets) (2022.12.7)\n",
            "Requirement already satisfied: six>=1.10 in /usr/local/lib/python3.8/dist-packages (from kaggle->opendatasets) (1.15.0)\n",
            "Requirement already satisfied: python-dateutil in /usr/local/lib/python3.8/dist-packages (from kaggle->opendatasets) (2.8.2)\n",
            "Requirement already satisfied: text-unidecode>=1.3 in /usr/local/lib/python3.8/dist-packages (from python-slugify->kaggle->opendatasets) (1.3)\n",
            "Requirement already satisfied: chardet<4,>=3.0.2 in /usr/local/lib/python3.8/dist-packages (from requests->kaggle->opendatasets) (3.0.4)\n",
            "Requirement already satisfied: idna<3,>=2.5 in /usr/local/lib/python3.8/dist-packages (from requests->kaggle->opendatasets) (2.10)\n",
            "Installing collected packages: opendatasets\n",
            "Successfully installed opendatasets-0.1.22\n"
          ]
        }
      ]
    },
    {
      "cell_type": "code",
      "execution_count": 2,
      "metadata": {
        "colab": {
          "base_uri": "https://localhost:8080/"
        },
        "id": "r9H6DYSF7THa",
        "outputId": "8004423c-3f67-413c-cc1a-8102e9b87daa"
      },
      "outputs": [
        {
          "output_type": "stream",
          "name": "stdout",
          "text": [
            "Please provide your Kaggle credentials to download this dataset. Learn more: http://bit.ly/kaggle-creds\n",
            "Your Kaggle username: yongsukprasertsuk\n",
            "Your Kaggle Key: ··········\n",
            "Downloading rockpaperscissors.zip to ./rockpaperscissors\n"
          ]
        },
        {
          "output_type": "stream",
          "name": "stderr",
          "text": [
            "100%|██████████| 306M/306M [00:16<00:00, 19.9MB/s]\n"
          ]
        },
        {
          "output_type": "stream",
          "name": "stdout",
          "text": [
            "\n"
          ]
        }
      ],
      "source": [
        "import opendatasets as od\n",
        "import pandas\n",
        "  \n",
        "od.download(\n",
        "    \"https://www.kaggle.com/datasets/drgfreeman/rockpaperscissors\")"
      ]
    },
    {
      "cell_type": "code",
      "source": [
        "import tensorflow as tf\n",
        "from tensorflow.keras.preprocessing.image import ImageDataGenerator"
      ],
      "metadata": {
        "id": "yGCA4ZW08ZnT"
      },
      "execution_count": 3,
      "outputs": []
    },
    {
      "cell_type": "code",
      "source": [
        "# extract zip file\n",
        "import zipfile\n",
        "import os\n",
        "# local_zip = '/tmp/rockpaperscissors.zip'\n",
        "base_dir = '/content/rockpaperscissors/rps-cv-images'\n",
        "# zip_extract = zipfile.ZipFile(local_zip, 'r')\n",
        "# zip_extract.extractall('/tmp')\n",
        "# zip_extract.close()"
      ],
      "metadata": {
        "id": "_26kjlNv8Zk5"
      },
      "execution_count": 4,
      "outputs": []
    },
    {
      "cell_type": "code",
      "source": [
        "# image augmentation\n",
        "train_datagen = ImageDataGenerator(\n",
        "    rescale = 1./255,\n",
        "    rotation_range = 20,\n",
        "    horizontal_flip = True,\n",
        "    shear_range = 0.2,\n",
        "    fill_mode = 'nearest',\n",
        "    validation_split = 0.4\n",
        ")\n",
        "\n",
        "validation_datagen = ImageDataGenerator(\n",
        "      rescale = 1.0/255,\n",
        "      validation_split=0.4)"
      ],
      "metadata": {
        "id": "J_2U7iwW8ZiZ"
      },
      "execution_count": 5,
      "outputs": []
    },
    {
      "cell_type": "code",
      "source": [
        "train_generator = train_datagen.flow_from_directory(\n",
        "    base_dir,\n",
        "    target_size = (100, 150),\n",
        "    color_mode = \"grayscale\",\n",
        "    class_mode = 'categorical',\n",
        "    subset = 'training'\n",
        ")\n",
        "\n",
        "validation_generator = validation_datagen.flow_from_directory(\n",
        "    base_dir,\n",
        "    target_size = (100, 150),\n",
        "    color_mode = \"grayscale\",\n",
        "    class_mode = 'categorical',\n",
        "    subset = 'validation'\n",
        ")"
      ],
      "metadata": {
        "colab": {
          "base_uri": "https://localhost:8080/"
        },
        "id": "h_EAjl5l8Zf6",
        "outputId": "ae3467e0-d199-4663-9ab3-08a0936b0eb3"
      },
      "execution_count": 7,
      "outputs": [
        {
          "output_type": "stream",
          "name": "stdout",
          "text": [
            "Found 1314 images belonging to 3 classes.\n",
            "Found 874 images belonging to 3 classes.\n"
          ]
        }
      ]
    },
    {
      "cell_type": "code",
      "source": [
        "model = tf.keras.models.Sequential([\n",
        "    tf.keras.layers.Conv2D(32, (3, 3), activation = 'relu', input_shape = (100, 150, 1)),\n",
        "    tf.keras.layers.MaxPooling2D(2, 2),\n",
        "    # tf.keras.layers.Dropout(0.2),\n",
        "\n",
        "    tf.keras.layers.Conv2D(64, (3, 3), activation = 'relu'), \n",
        "    tf.keras.layers.MaxPooling2D(2, 2),\n",
        "    # tf.keras.layers.Dropout(0.2),\n",
        "\n",
        "    tf.keras.layers.Conv2D(128, (3, 3), activation = 'relu'),\n",
        "    tf.keras.layers.MaxPooling2D(2, 2),\n",
        "    # tf.keras.layers.Dropout(0.2),\n",
        "\n",
        "    tf.keras.layers.Conv2D(256, (3, 3), activation = 'relu'),\n",
        "    tf.keras.layers.MaxPooling2D(2, 2),\n",
        "    # tf.keras.layers.Dropout(0.2),\n",
        "\n",
        "    tf.keras.layers.Flatten(),\n",
        "    tf.keras.layers.Dense(512, activation = 'relu'),\n",
        "    tf.keras.layers.Dense(3, activation = 'softmax')\n",
        "])"
      ],
      "metadata": {
        "id": "-DB4PJzc8Zdo"
      },
      "execution_count": 8,
      "outputs": []
    },
    {
      "cell_type": "code",
      "source": [
        "# count loss function and optimizer\n",
        "model.compile(\n",
        "    loss = 'categorical_crossentropy',\n",
        "    optimizer = tf.optimizers.Adam(),\n",
        "    metrics = ['accuracy']               \n",
        ")"
      ],
      "metadata": {
        "id": "p7T4zmdO8ZbJ"
      },
      "execution_count": 9,
      "outputs": []
    },
    {
      "cell_type": "code",
      "source": [
        "# callbacks\n",
        "accuracy_threshold = 98e-2\n",
        "class my_callbacks(tf.keras.callbacks.Callback):\n",
        "    def on_epoch_end(self, epoch, logs = None):\n",
        "        if logs.get('accuracy') >= accuracy_threshold:\n",
        "            print('\\nFor Epoch', epoch, '\\nAccuracy has reach = %2.2f%%' %(logs['accuracy']*100), 'training has been stopped.')\n",
        "            self.model.stop_training = True"
      ],
      "metadata": {
        "id": "RGducv298ZVn"
      },
      "execution_count": null,
      "outputs": []
    },
    {
      "cell_type": "code",
      "source": [
        "# train data\n",
        "history = model.fit(\n",
        "    train_generator,\n",
        "    steps_per_epoch = 25,\n",
        "    epochs = 20,\n",
        "    validation_data = validation_generator,\n",
        "    validation_steps = 5,\n",
        "    verbose = 2,\n",
        ")"
      ],
      "metadata": {
        "colab": {
          "base_uri": "https://localhost:8080/"
        },
        "id": "FYfzZW7HNVAJ",
        "outputId": "832625f0-6f05-46c6-a7bc-58ad1ae8d409"
      },
      "execution_count": 10,
      "outputs": [
        {
          "output_type": "stream",
          "name": "stdout",
          "text": [
            "Epoch 1/20\n",
            "25/25 - 12s - loss: 1.0005 - accuracy: 0.4313 - val_loss: 0.8298 - val_accuracy: 0.5375 - 12s/epoch - 486ms/step\n",
            "Epoch 2/20\n",
            "25/25 - 3s - loss: 0.9641 - accuracy: 0.5571 - val_loss: 1.0434 - val_accuracy: 0.3750 - 3s/epoch - 134ms/step\n",
            "Epoch 3/20\n",
            "25/25 - 4s - loss: 0.7788 - accuracy: 0.6175 - val_loss: 0.6768 - val_accuracy: 0.5813 - 4s/epoch - 158ms/step\n",
            "Epoch 4/20\n",
            "25/25 - 3s - loss: 0.5823 - accuracy: 0.7437 - val_loss: 0.4557 - val_accuracy: 0.8438 - 3s/epoch - 126ms/step\n",
            "Epoch 5/20\n",
            "25/25 - 3s - loss: 0.4832 - accuracy: 0.8075 - val_loss: 0.5917 - val_accuracy: 0.7125 - 3s/epoch - 123ms/step\n",
            "Epoch 6/20\n",
            "25/25 - 3s - loss: 0.4104 - accuracy: 0.8475 - val_loss: 0.4584 - val_accuracy: 0.7563 - 3s/epoch - 124ms/step\n",
            "Epoch 7/20\n",
            "25/25 - 3s - loss: 0.3225 - accuracy: 0.8913 - val_loss: 0.2713 - val_accuracy: 0.9062 - 3s/epoch - 122ms/step\n",
            "Epoch 8/20\n",
            "25/25 - 3s - loss: 0.3577 - accuracy: 0.8550 - val_loss: 0.3861 - val_accuracy: 0.8500 - 3s/epoch - 126ms/step\n",
            "Epoch 9/20\n",
            "25/25 - 3s - loss: 0.2704 - accuracy: 0.9026 - val_loss: 0.4062 - val_accuracy: 0.9000 - 3s/epoch - 127ms/step\n",
            "Epoch 10/20\n",
            "25/25 - 3s - loss: 0.2389 - accuracy: 0.9137 - val_loss: 0.1514 - val_accuracy: 0.9438 - 3s/epoch - 122ms/step\n",
            "Epoch 11/20\n",
            "25/25 - 3s - loss: 0.1693 - accuracy: 0.9442 - val_loss: 0.1032 - val_accuracy: 0.9625 - 3s/epoch - 119ms/step\n",
            "Epoch 12/20\n",
            "25/25 - 3s - loss: 0.2247 - accuracy: 0.9260 - val_loss: 0.2292 - val_accuracy: 0.9312 - 3s/epoch - 119ms/step\n",
            "Epoch 13/20\n",
            "25/25 - 3s - loss: 0.1331 - accuracy: 0.9513 - val_loss: 0.2969 - val_accuracy: 0.9250 - 3s/epoch - 129ms/step\n",
            "Epoch 14/20\n",
            "25/25 - 3s - loss: 0.1430 - accuracy: 0.9481 - val_loss: 0.1983 - val_accuracy: 0.9312 - 3s/epoch - 120ms/step\n",
            "Epoch 15/20\n",
            "25/25 - 3s - loss: 0.1041 - accuracy: 0.9613 - val_loss: 0.0606 - val_accuracy: 0.9812 - 3s/epoch - 128ms/step\n",
            "Epoch 16/20\n",
            "25/25 - 3s - loss: 0.0721 - accuracy: 0.9766 - val_loss: 0.0521 - val_accuracy: 0.9812 - 3s/epoch - 121ms/step\n",
            "Epoch 17/20\n",
            "25/25 - 3s - loss: 0.0719 - accuracy: 0.9688 - val_loss: 0.0799 - val_accuracy: 0.9688 - 3s/epoch - 122ms/step\n",
            "Epoch 18/20\n",
            "25/25 - 3s - loss: 0.0914 - accuracy: 0.9701 - val_loss: 0.0367 - val_accuracy: 0.9937 - 3s/epoch - 127ms/step\n",
            "Epoch 19/20\n",
            "25/25 - 3s - loss: 0.0744 - accuracy: 0.9727 - val_loss: 0.2491 - val_accuracy: 0.9625 - 3s/epoch - 120ms/step\n",
            "Epoch 20/20\n",
            "25/25 - 3s - loss: 0.1149 - accuracy: 0.9610 - val_loss: 0.1947 - val_accuracy: 0.9563 - 3s/epoch - 120ms/step\n"
          ]
        }
      ]
    },
    {
      "cell_type": "code",
      "source": [
        "import numpy as np\n",
        "from google.colab import files\n",
        "import keras.utils as image\n",
        "import matplotlib.pyplot as plt\n",
        "import matplotlib.image as mpimg\n",
        "from PIL import Image\n",
        "%matplotlib inline\n",
        "\n",
        "# predict images\n",
        "path = \"/content/rockpaperscissors/paper/ldGrLw1rlUq1nHuw.png\"\n",
        "\n",
        "img_source = Image.open(path).convert('L').resize((150,100))\n",
        "imgplot = plt.imshow(img_source, cmap=plt.get_cmap('gray'))\n",
        "x = image.img_to_array(img_source)\n",
        "x = np.expand_dims(x, axis = 0)\n",
        "\n",
        "images = np.vstack([x])\n",
        "classes = model.predict(images, batch_size = 10)\n",
        "\n",
        "print(path)\n",
        "if classes[0, 0] == 1:\n",
        "  print('paper')\n",
        "elif classes[0, 1] == 1:\n",
        "  print('rock')\n",
        "elif classes[0, 2] == 1:\n",
        "  print('scissors')"
      ],
      "metadata": {
        "colab": {
          "base_uri": "https://localhost:8080/",
          "height": 322
        },
        "id": "CTuYRitMNU6w",
        "outputId": "65a02fa0-746e-47c2-f661-98fa24862d9f"
      },
      "execution_count": 61,
      "outputs": [
        {
          "output_type": "stream",
          "name": "stdout",
          "text": [
            "1/1 [==============================] - 0s 23ms/step\n",
            "/content/rockpaperscissors/paper/ldGrLw1rlUq1nHuw.png\n",
            "paper\n"
          ]
        },
        {
          "output_type": "display_data",
          "data": {
            "text/plain": [
              "<Figure size 432x288 with 1 Axes>"
            ],
            "image/png": "[encoded data removed]"
          },
          "metadata": {
            "needs_background": "light"
          }
        }
      ]
    },
    {
      "cell_type": "code",
      "source": [
        "model_json = model.to_json()\n",
        "\n",
        "with open(\"model1/model.json\",\"w\") as model_json_file:\n",
        "    model_json_file.write(model_json)\n",
        "    \n",
        "model.save_weights(\"model1/model_weights.h5\")\n",
        "print(\"model saved\")"
      ],
      "metadata": {
        "id": "OaUy12fSNU4W",
        "outputId": "5bc09988-33b4-43a9-dcd3-64331f7f150b",
        "colab": {
          "base_uri": "https://localhost:8080/"
        }
      },
      "execution_count": 63,
      "outputs": [
        {
          "output_type": "stream",
          "name": "stdout",
          "text": [
            "model saved\n"
          ]
        }
      ]
    },
    {
      "cell_type": "code",
      "source": [],
      "metadata": {
        "id": "I49F8imoNU1s"
      },
      "execution_count": null,
      "outputs": []
    },
    {
      "cell_type": "code",
      "source": [],
      "metadata": {
        "id": "roArwudINUy_"
      },
      "execution_count": null,
      "outputs": []
    },
    {
      "cell_type": "code",
      "source": [],
      "metadata": {
        "id": "zXKl91Z2NUwI"
      },
      "execution_count": null,
      "outputs": []
    }
  ]
}