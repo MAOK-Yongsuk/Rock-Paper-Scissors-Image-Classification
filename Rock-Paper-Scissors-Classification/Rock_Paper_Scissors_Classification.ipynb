{
  "nbformat": 4,
  "nbformat_minor": 0,
  "metadata": {
    "colab": {
      "provenance": []
    },
    "kernelspec": {
      "name": "python3",
      "display_name": "Python 3"
    },
    "language_info": {
      "name": "python"
    },
    "accelerator": "GPU",
    "gpuClass": "standard"
  },
  "cells": [
    {
      "cell_type": "code",
      "source": [
        "from google.colab import drive\n",
        "drive.mount('/content/drive')"
      ],
      "metadata": {
        "id": "kaFGr9coR8fX",
        "outputId": "b0d1a880-3ac1-413a-ccf3-340711128bc7",
        "colab": {
          "base_uri": "https://localhost:8080/"
        }
      },
      "execution_count": null,
      "outputs": [
        {
          "output_type": "stream",
          "name": "stdout",
          "text": [
            "Drive already mounted at /content/drive; to attempt to forcibly remount, call drive.mount(\"/content/drive\", force_remount=True).\n"
          ]
        }
      ]
    },
    {
      "cell_type": "code",
      "execution_count": null,
      "metadata": {
        "id": "r9H6DYSF7THa"
      },
      "outputs": [],
      "source": [
        "import pandas\n",
        "  \n",
        "!unzip /content/drive/MyDrive/datasets/data.zip"
      ]
    },
    {
      "cell_type": "code",
      "source": [
        "import tensorflow as tf\n",
        "from tensorflow.keras.preprocessing.image import ImageDataGenerator"
      ],
      "metadata": {
        "id": "yGCA4ZW08ZnT"
      },
      "execution_count": null,
      "outputs": []
    },
    {
      "cell_type": "code",
      "source": [
        "# extract zip file\n",
        "import zipfile\n",
        "import os\n",
        "train = '/content/ready/train'\n",
        "val = '/content/ready/val'"
      ],
      "metadata": {
        "id": "_26kjlNv8Zk5"
      },
      "execution_count": null,
      "outputs": []
    },
    {
      "cell_type": "code",
      "source": [
        "# image augmentation\n",
        "train_datagen = ImageDataGenerator(\n",
        "    rescale = 1./255,\n",
        "    rotation_range = 15,\n",
        "    featurewise_center=True,\n",
        "    brightness_range=(0.1,0.9),\n",
        ")\n",
        "\n",
        "validation_datagen = ImageDataGenerator(\n",
        "      rescale = 1.0/255,\n",
        ")"
      ],
      "metadata": {
        "id": "J_2U7iwW8ZiZ"
      },
      "execution_count": null,
      "outputs": []
    },
    {
      "cell_type": "code",
      "source": [
        "train_generator = train_datagen.flow_from_directory(\n",
        "    train,\n",
        "    target_size = (50, 50),\n",
        "    color_mode = \"grayscale\",\n",
        "    class_mode = 'categorical',\n",
        "    batch_size = 128\n",
        ")\n",
        "\n",
        "validation_generator = validation_datagen.flow_from_directory(\n",
        "    val,\n",
        "    target_size = (50, 50),\n",
        "    color_mode = \"grayscale\",\n",
        "    class_mode = 'categorical',\n",
        "    batch_size = 128\n",
        ")"
      ],
      "metadata": {
        "colab": {
          "base_uri": "https://localhost:8080/"
        },
        "id": "h_EAjl5l8Zf6",
        "outputId": "17adbd3e-6a14-4160-d5df-43c05319b0c0"
      },
      "execution_count": null,
      "outputs": [
        {
          "output_type": "stream",
          "name": "stdout",
          "text": [
            "Found 7061 images belonging to 4 classes.\n",
            "Found 1958 images belonging to 4 classes.\n"
          ]
        }
      ]
    },
    {
      "cell_type": "code",
      "source": [
        "model = tf.keras.models.Sequential([\n",
        "    tf.keras.layers.Conv2D(32, (3, 3), activation = 'relu', input_shape = (50, 50, 1)),\n",
        "    tf.keras.layers.MaxPooling2D(2, 2),\n",
        "    tf.keras.layers.Dropout(0.54),\n",
        "\n",
        "    tf.keras.layers.Conv2D(64, (3, 3), activation = 'relu'), \n",
        "    tf.keras.layers.MaxPooling2D(2, 2),\n",
        "    tf.keras.layers.Dropout(0.7),\n",
        "\n",
        "    tf.keras.layers.Conv2D(64, (3, 3), activation = 'relu'),\n",
        "    tf.keras.layers.MaxPooling2D(2, 2),\n",
        "    tf.keras.layers.Dropout(0.7),\n",
        "\n",
        "    tf.keras.layers.Conv2D(64, (3, 3), activation = 'relu'),\n",
        "    tf.keras.layers.MaxPooling2D(2, 2),\n",
        "    tf.keras.layers.Dropout(0.6),\n",
        "\n",
        "    tf.keras.layers.Flatten(),\n",
        "    tf.keras.layers.Dense(64, activation = 'relu'),\n",
        "    tf.keras.layers.Dropout(0.64),\n",
        "\n",
        "    tf.keras.layers.Dense(4, activation = 'softmax')\n",
        "])"
      ],
      "metadata": {
        "id": "-DB4PJzc8Zdo"
      },
      "execution_count": null,
      "outputs": []
    },
    {
      "cell_type": "code",
      "source": [
        "# count loss function and optimizer\n",
        "model.compile(\n",
        "    loss = 'categorical_crossentropy',\n",
        "    optimizer = \"rmsprop\",\n",
        "    metrics = ['accuracy']               \n",
        ")"
      ],
      "metadata": {
        "id": "p7T4zmdO8ZbJ"
      },
      "execution_count": null,
      "outputs": []
    },
    {
      "cell_type": "code",
      "source": [
        "# callbacks\n",
        "accuracy_threshold = 98e-2\n",
        "class my_callbacks(tf.keras.callbacks.Callback):\n",
        "    def on_epoch_end(self, epoch, logs = None):\n",
        "        if logs.get('accuracy') >= accuracy_threshold:\n",
        "            print('\\nFor Epoch', epoch, '\\nAccuracy has reach = %2.2f%%' %(logs['accuracy']*100), 'training has been stopped.')\n",
        "            self.model.stop_training = True"
      ],
      "metadata": {
        "id": "RGducv298ZVn"
      },
      "execution_count": null,
      "outputs": []
    },
    {
      "cell_type": "code",
      "source": [
        "# train data\n",
        "history = model.fit(\n",
        "    train_generator,\n",
        "    steps_per_epoch = train_generator.n//train_generator.batch_size,\n",
        "    epochs = 150,\n",
        "    validation_data = validation_generator,\n",
        "    validation_steps = validation_generator.n//validation_generator.batch_size\n",
        ")"
      ],
      "metadata": {
        "id": "FYfzZW7HNVAJ"
      },
      "execution_count": null,
      "outputs": []
    },
    {
      "cell_type": "code",
      "source": [
        "import numpy as np\n",
        "from google.colab import files\n",
        "import keras.utils as image\n",
        "import matplotlib.pyplot as plt\n",
        "import matplotlib.image as mpimg\n",
        "from PIL import Image\n",
        "%matplotlib inline\n",
        "\n",
        "# predict images\n",
        "path = \"/content/ready/val/paper/0.png\"\n",
        "\n",
        "img_source = Image.open(path).convert('L').resize((150,100))\n",
        "imgplot = plt.imshow(img_source, cmap=plt.get_cmap('gray'))\n",
        "x = image.img_to_array(img_source)\n",
        "x = np.expand_dims(x, axis = 0)\n",
        "\n",
        "images = np.vstack([x])\n",
        "classes = model.predict(images, batch_size = 10)\n",
        "\n",
        "print(path)\n",
        "if classes[0, 0] == 1:\n",
        "  print('paper')\n",
        "elif classes[0, 1] == 1:\n",
        "  print('rock')\n",
        "elif classes[0, 2] == 1:\n",
        "  print('scissors')"
      ],
      "metadata": {
        "id": "CTuYRitMNU6w"
      },
      "execution_count": null,
      "outputs": []
    },
    {
      "cell_type": "code",
      "source": [
        "model_json = model.to_json()\n",
        "\n",
        "with open(\"model1/model.json\",\"w\") as model_json_file:\n",
        "    model_json_file.write(model_json)\n",
        "    \n",
        "model.save_weights(\"model1/model_weights.h5\")\n",
        "print(\"model saved\")"
      ],
      "metadata": {
        "id": "OaUy12fSNU4W",
        "outputId": "e9db1819-5c6b-4210-9ef3-9fba61320332",
        "colab": {
          "base_uri": "https://localhost:8080/"
        }
      },
      "execution_count": null,
      "outputs": [
        {
          "output_type": "stream",
          "name": "stdout",
          "text": [
            "model saved\n"
          ]
        }
      ]
    }
  ]
}